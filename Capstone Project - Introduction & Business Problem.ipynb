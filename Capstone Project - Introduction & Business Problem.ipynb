{
 "cells": [
  {
   "cell_type": "markdown",
   "metadata": {},
   "source": [
    "# Introduction \n",
    "\n",
    "New York City is incredibly diverse and is the financial capital of the United States. Because of the possibilities that these two qualities present, I have decided to put on my entrepreneurial hat and have a go at establishing an eatery somewhere in the city. "
   ]
  },
  {
   "cell_type": "markdown",
   "metadata": {},
   "source": [
    "# Business Problem\n",
    "\n",
    "However, although I feel certain in my plan to open a restaurant in New York City, I am much less certain about where. Because prices in Brooklyn are much cheaper than those in Manhattan, I am going to explore neighborhoods in Brooklyn to find the best location for my restaurant. In order to help me solve this problem, I am going to set out to find the most popular type of restaurant in Brooklyn, and then I want to find a neighborhood where this type of restaurant is not yet in the top 5 most common venues."
   ]
  }
 ],
 "metadata": {
  "kernelspec": {
   "display_name": "Python 3",
   "language": "python",
   "name": "python3"
  },
  "language_info": {
   "codemirror_mode": {
    "name": "ipython",
    "version": 3
   },
   "file_extension": ".py",
   "mimetype": "text/x-python",
   "name": "python",
   "nbconvert_exporter": "python",
   "pygments_lexer": "ipython3",
   "version": "3.7.3"
  }
 },
 "nbformat": 4,
 "nbformat_minor": 2
}
